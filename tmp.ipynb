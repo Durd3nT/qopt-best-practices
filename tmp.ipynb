{
 "cells": [
  {
   "cell_type": "code",
   "execution_count": 23,
   "outputs": [],
   "source": [
    "import json\n",
    "graph_file = \"sample_data/graph_2layers_0seed.json\"\n",
    "data = json.load(open(graph_file, \"r\"))\n",
    "local_correlators=data[\"paulis\"]"
   ],
   "metadata": {
    "collapsed": false,
    "pycharm": {
     "name": "#%%\n"
    }
   }
  },
  {
   "cell_type": "code",
   "execution_count": 24,
   "metadata": {
    "collapsed": true
   },
   "outputs": [],
   "source": [
    "from qubit_selection.backend_evaluator import BackendEvaluator\n",
    "from utils.graph_utils import build_graph"
   ]
  },
  {
   "cell_type": "code",
   "execution_count": 25,
   "outputs": [
    {
     "name": "stdout",
     "output_type": "stream",
     "text": [
      "Graph with 10 nodes and 15 edges\n",
      "[['IIIIIZZIII', 1.0], ['IIIIIIZIZI', 1.0], ['IIIIIIZIIZ', 1.0], ['ZIIIIZIIII', 1.0], ['IIIIZZIIII', 1.0], ['IIZIIIIZII', 1.0], ['IZZIIIIIII', 1.0], ['IIZZIIIIII', 1.0], ['IIIIIIIZZI', 1.0], ['IIIIZIIZII', 1.0], ['IIIIZIIIIZ', 1.0], ['IIIIIIIIZZ', 1.0], ['ZZIIIIIIII', 1.0], ['IZIZIIIIII', 1.0], ['ZIIZIIIIII', 1.0]]\n"
     ]
    }
   ],
   "source": [
    "# QAOA\n",
    "G = build_graph(local_correlators)\n",
    "N = len(G)\n",
    "print(G)\n",
    "print(local_correlators)"
   ],
   "metadata": {
    "collapsed": false,
    "pycharm": {
     "name": "#%%\n"
    }
   }
  },
  {
   "cell_type": "code",
   "execution_count": 26,
   "outputs": [
    {
     "name": "stdout",
     "output_type": "stream",
     "text": [
      "[30, 31, 32, 36, 51, 50, 49, 48, 47, 35]\n"
     ]
    }
   ],
   "source": [
    "from qiskit.providers.fake_provider import FakeWashington\n",
    "\n",
    "backend = FakeWashington()\n",
    "path_finder = BackendEvaluator(backend)\n",
    "path, _ = path_finder.evaluate(N)\n",
    "print(path)\n"
   ],
   "metadata": {
    "collapsed": false,
    "pycharm": {
     "name": "#%%\n"
    }
   }
  }
 ],
 "metadata": {
  "kernelspec": {
   "name": "new-tutorials",
   "language": "python",
   "display_name": "new-tutorials"
  },
  "language_info": {
   "codemirror_mode": {
    "name": "ipython",
    "version": 2
   },
   "file_extension": ".py",
   "mimetype": "text/x-python",
   "name": "python",
   "nbconvert_exporter": "python",
   "pygments_lexer": "ipython2",
   "version": "2.7.6"
  }
 },
 "nbformat": 4,
 "nbformat_minor": 0
}